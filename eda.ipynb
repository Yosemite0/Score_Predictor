{
 "cells": [
  {
   "cell_type": "markdown",
   "metadata": {},
   "source": [
    "# EDA For Ball to Ball Data\n",
    "\n",
    "The file './data/ball_to_ball/deliveries.csv' contains ball to ball data for all the matches. This notebook will be used to explore the data and understand the data better."
   ]
  },
  {
   "cell_type": "markdown",
   "metadata": {},
   "source": [
    "## Importing Libraries And Data"
   ]
  },
  {
   "cell_type": "code",
   "execution_count": null,
   "metadata": {},
   "outputs": [
    {
     "name": "stdout",
     "output_type": "stream",
     "text": [
      "dil bada\n"
     ]
    }
   ],
   "source": [
    "#System imports\n",
    "import os\n",
    "import sys\n",
    "import json\n",
    "\n",
    "\n",
    "import pandas as pd\n",
    "import numpy as np\n",
    "import matplotlib.pyplot as plt\n"
   ]
  },
  {
   "cell_type": "code",
   "execution_count": null,
   "metadata": {},
   "outputs": [],
   "source": [
    "# Loading Configurations\n",
    "# ----------------------\n",
    "with open('config.json') as f:\n",
    "    config_data = json.load(f)\n",
    "\n",
    "# Getting data path\n",
    "data_path = config_data[\"data\"][\"ball_to_ball\"]\n",
    "\n",
    "# Getting the data\n",
    "# ----------------\n",
    "data = pd.read_csv(data_path)"
   ]
  },
  {
   "cell_type": "markdown",
   "metadata": {},
   "source": [
    "## Sumarising Data\n",
    "\n",
    "Having data of a single ball does not give score for entire match or does not give insight how the team is performing.\n",
    "\n",
    "Thus we need to summarize the data to get the score of each ball and also the score of the match at the end of each ball. We can do have to seperate the data by match_id and innings.\n",
    "\n",
    "We have to further group the data into overs and overall match statistics.\n"
   ]
  },
  {
   "cell_type": "code",
   "execution_count": null,
   "metadata": {},
   "outputs": [],
   "source": []
  },
  {
   "cell_type": "code",
   "execution_count": null,
   "metadata": {},
   "outputs": [],
   "source": []
  }
 ],
 "metadata": {
  "kernelspec": {
   "display_name": ".venv",
   "language": "python",
   "name": "python3"
  },
  "language_info": {
   "codemirror_mode": {
    "name": "ipython",
    "version": 3
   },
   "file_extension": ".py",
   "mimetype": "text/x-python",
   "name": "python",
   "nbconvert_exporter": "python",
   "pygments_lexer": "ipython3",
   "version": "3.12.3"
  }
 },
 "nbformat": 4,
 "nbformat_minor": 2
}
