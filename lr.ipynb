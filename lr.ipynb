{
 "cells": [
  {
   "cell_type": "markdown",
   "id": "7ecbd5f4",
   "metadata": {},
   "source": [
    "# IPL Score Prediction - Linear Regression Model\n",
    "\n",
    "This notebook implements a basic linear regression model to predict IPL cricket scores based on match features."
   ]
  },
  {
   "cell_type": "code",
   "execution_count": 10,
   "id": "947774df",
   "metadata": {},
   "outputs": [],
   "source": [
    "# %pip install pandas numpy torch matplotlib\n",
    "# %pip install scikit-learn"
   ]
  },
  {
   "cell_type": "code",
   "execution_count": 11,
   "id": "968b777b",
   "metadata": {},
   "outputs": [
    {
     "name": "stdout",
     "output_type": "stream",
     "text": [
      "Using device: cuda\n",
      "CUDA Device: NVIDIA GeForce MX350\n",
      "CUDA Memory Allocated: 0.00 MB\n"
     ]
    }
   ],
   "source": [
    "import pandas as pd\n",
    "import numpy as np\n",
    "import torch\n",
    "import torch.nn as nn\n",
    "import torch.optim as optim\n",
    "from sklearn.preprocessing import LabelEncoder, StandardScaler\n",
    "from sklearn.model_selection import train_test_split\n",
    "from torch.utils.data import Dataset, DataLoader\n",
    "import matplotlib.pyplot as plt\n",
    "from sklearn.linear_model import LinearRegression\n",
    "from sklearn.metrics import mean_absolute_error, mean_squared_error, r2_score\n",
    "\n",
    "# Setup device\n",
    "device = torch.device('cuda' if torch.cuda.is_available() else 'cpu')\n",
    "print(f\"Using device: {device}\")\n",
    "if device.type == 'cuda':\n",
    "    print(f\"CUDA Device: {torch.cuda.get_device_name(0)}\")\n",
    "    print(f\"CUDA Memory Allocated: {torch.cuda.memory_allocated(0)/1024**2:.2f} MB\")"
   ]
  },
  {
   "cell_type": "markdown",
   "id": "4de23150",
   "metadata": {},
   "source": [
    "## Data Loading and Preprocessing"
   ]
  },
  {
   "cell_type": "code",
   "execution_count": 12,
   "id": "979b0546",
   "metadata": {},
   "outputs": [
    {
     "name": "stdout",
     "output_type": "stream",
     "text": [
      "Loaded preprocessed dataset.\n",
      "\n",
      "Dataset shape: (42213, 15)\n",
      "\n",
      "Columns: ['match_id', 'inning', 'batting_team', 'bowling_team', 'over', 'season', 'who_is_batting_first', 'total_runs', 'is_wicket', 'run_rate', 'target_runs', 'target_left', 'req_runrate', 'curr_run_rate', 'weighted_run_rate']\n",
      "\n",
      "Sample data:\n"
     ]
    },
    {
     "data": {
      "application/vnd.microsoft.datawrangler.viewer.v0+json": {
       "columns": [
        {
         "name": "index",
         "rawType": "int64",
         "type": "integer"
        },
        {
         "name": "match_id",
         "rawType": "int64",
         "type": "integer"
        },
        {
         "name": "inning",
         "rawType": "int64",
         "type": "integer"
        },
        {
         "name": "batting_team",
         "rawType": "object",
         "type": "string"
        },
        {
         "name": "bowling_team",
         "rawType": "object",
         "type": "string"
        },
        {
         "name": "over",
         "rawType": "int64",
         "type": "integer"
        },
        {
         "name": "season",
         "rawType": "object",
         "type": "string"
        },
        {
         "name": "who_is_batting_first",
         "rawType": "object",
         "type": "string"
        },
        {
         "name": "total_runs",
         "rawType": "int64",
         "type": "integer"
        },
        {
         "name": "is_wicket",
         "rawType": "int64",
         "type": "integer"
        },
        {
         "name": "run_rate",
         "rawType": "float64",
         "type": "float"
        },
        {
         "name": "target_runs",
         "rawType": "int64",
         "type": "integer"
        },
        {
         "name": "target_left",
         "rawType": "int64",
         "type": "integer"
        },
        {
         "name": "req_runrate",
         "rawType": "float64",
         "type": "float"
        },
        {
         "name": "curr_run_rate",
         "rawType": "int64",
         "type": "integer"
        },
        {
         "name": "weighted_run_rate",
         "rawType": "float64",
         "type": "float"
        }
       ],
       "conversionMethod": "pd.DataFrame",
       "ref": "b9b906bd-bf32-49f6-ae8e-7cff6ee71d33",
       "rows": [
        [
         "0",
         "335982",
         "1",
         "Kolkata Knight Riders",
         "Royal Challengers Bengaluru",
         "1",
         "2007/08",
         "Kolkata Knight Riders",
         "3",
         "0",
         "3.0",
         "0",
         "0",
         "0.0",
         "3",
         "3.0"
        ],
        [
         "1",
         "335982",
         "1",
         "Kolkata Knight Riders",
         "Royal Challengers Bengaluru",
         "2",
         "2007/08",
         "Kolkata Knight Riders",
         "18",
         "0",
         "10.5",
         "0",
         "0",
         "0.0",
         "18",
         "13.5"
        ],
        [
         "2",
         "335982",
         "1",
         "Kolkata Knight Riders",
         "Royal Challengers Bengaluru",
         "3",
         "2007/08",
         "Kolkata Knight Riders",
         "6",
         "0",
         "9.0",
         "0",
         "0",
         "0.0",
         "6",
         "8.25"
        ],
        [
         "3",
         "335982",
         "1",
         "Kolkata Knight Riders",
         "Royal Challengers Bengaluru",
         "4",
         "2007/08",
         "Kolkata Knight Riders",
         "23",
         "0",
         "12.5",
         "0",
         "0",
         "0.0",
         "23",
         "18.58"
        ],
        [
         "4",
         "335982",
         "1",
         "Kolkata Knight Riders",
         "Royal Challengers Bengaluru",
         "5",
         "2007/08",
         "Kolkata Knight Riders",
         "10",
         "0",
         "12.0",
         "0",
         "0",
         "0.0",
         "10",
         "12.57"
        ]
       ],
       "shape": {
        "columns": 15,
        "rows": 5
       }
      },
      "text/html": [
       "<div>\n",
       "<style scoped>\n",
       "    .dataframe tbody tr th:only-of-type {\n",
       "        vertical-align: middle;\n",
       "    }\n",
       "\n",
       "    .dataframe tbody tr th {\n",
       "        vertical-align: top;\n",
       "    }\n",
       "\n",
       "    .dataframe thead th {\n",
       "        text-align: right;\n",
       "    }\n",
       "</style>\n",
       "<table border=\"1\" class=\"dataframe\">\n",
       "  <thead>\n",
       "    <tr style=\"text-align: right;\">\n",
       "      <th></th>\n",
       "      <th>match_id</th>\n",
       "      <th>inning</th>\n",
       "      <th>batting_team</th>\n",
       "      <th>bowling_team</th>\n",
       "      <th>over</th>\n",
       "      <th>season</th>\n",
       "      <th>who_is_batting_first</th>\n",
       "      <th>total_runs</th>\n",
       "      <th>is_wicket</th>\n",
       "      <th>run_rate</th>\n",
       "      <th>target_runs</th>\n",
       "      <th>target_left</th>\n",
       "      <th>req_runrate</th>\n",
       "      <th>curr_run_rate</th>\n",
       "      <th>weighted_run_rate</th>\n",
       "    </tr>\n",
       "  </thead>\n",
       "  <tbody>\n",
       "    <tr>\n",
       "      <th>0</th>\n",
       "      <td>335982</td>\n",
       "      <td>1</td>\n",
       "      <td>Kolkata Knight Riders</td>\n",
       "      <td>Royal Challengers Bengaluru</td>\n",
       "      <td>1</td>\n",
       "      <td>2007/08</td>\n",
       "      <td>Kolkata Knight Riders</td>\n",
       "      <td>3</td>\n",
       "      <td>0</td>\n",
       "      <td>3.0</td>\n",
       "      <td>0</td>\n",
       "      <td>0</td>\n",
       "      <td>0.0</td>\n",
       "      <td>3</td>\n",
       "      <td>3.00</td>\n",
       "    </tr>\n",
       "    <tr>\n",
       "      <th>1</th>\n",
       "      <td>335982</td>\n",
       "      <td>1</td>\n",
       "      <td>Kolkata Knight Riders</td>\n",
       "      <td>Royal Challengers Bengaluru</td>\n",
       "      <td>2</td>\n",
       "      <td>2007/08</td>\n",
       "      <td>Kolkata Knight Riders</td>\n",
       "      <td>18</td>\n",
       "      <td>0</td>\n",
       "      <td>10.5</td>\n",
       "      <td>0</td>\n",
       "      <td>0</td>\n",
       "      <td>0.0</td>\n",
       "      <td>18</td>\n",
       "      <td>13.50</td>\n",
       "    </tr>\n",
       "    <tr>\n",
       "      <th>2</th>\n",
       "      <td>335982</td>\n",
       "      <td>1</td>\n",
       "      <td>Kolkata Knight Riders</td>\n",
       "      <td>Royal Challengers Bengaluru</td>\n",
       "      <td>3</td>\n",
       "      <td>2007/08</td>\n",
       "      <td>Kolkata Knight Riders</td>\n",
       "      <td>6</td>\n",
       "      <td>0</td>\n",
       "      <td>9.0</td>\n",
       "      <td>0</td>\n",
       "      <td>0</td>\n",
       "      <td>0.0</td>\n",
       "      <td>6</td>\n",
       "      <td>8.25</td>\n",
       "    </tr>\n",
       "    <tr>\n",
       "      <th>3</th>\n",
       "      <td>335982</td>\n",
       "      <td>1</td>\n",
       "      <td>Kolkata Knight Riders</td>\n",
       "      <td>Royal Challengers Bengaluru</td>\n",
       "      <td>4</td>\n",
       "      <td>2007/08</td>\n",
       "      <td>Kolkata Knight Riders</td>\n",
       "      <td>23</td>\n",
       "      <td>0</td>\n",
       "      <td>12.5</td>\n",
       "      <td>0</td>\n",
       "      <td>0</td>\n",
       "      <td>0.0</td>\n",
       "      <td>23</td>\n",
       "      <td>18.58</td>\n",
       "    </tr>\n",
       "    <tr>\n",
       "      <th>4</th>\n",
       "      <td>335982</td>\n",
       "      <td>1</td>\n",
       "      <td>Kolkata Knight Riders</td>\n",
       "      <td>Royal Challengers Bengaluru</td>\n",
       "      <td>5</td>\n",
       "      <td>2007/08</td>\n",
       "      <td>Kolkata Knight Riders</td>\n",
       "      <td>10</td>\n",
       "      <td>0</td>\n",
       "      <td>12.0</td>\n",
       "      <td>0</td>\n",
       "      <td>0</td>\n",
       "      <td>0.0</td>\n",
       "      <td>10</td>\n",
       "      <td>12.57</td>\n",
       "    </tr>\n",
       "  </tbody>\n",
       "</table>\n",
       "</div>"
      ],
      "text/plain": [
       "   match_id  inning           batting_team                 bowling_team  over  \\\n",
       "0    335982       1  Kolkata Knight Riders  Royal Challengers Bengaluru     1   \n",
       "1    335982       1  Kolkata Knight Riders  Royal Challengers Bengaluru     2   \n",
       "2    335982       1  Kolkata Knight Riders  Royal Challengers Bengaluru     3   \n",
       "3    335982       1  Kolkata Knight Riders  Royal Challengers Bengaluru     4   \n",
       "4    335982       1  Kolkata Knight Riders  Royal Challengers Bengaluru     5   \n",
       "\n",
       "    season   who_is_batting_first  total_runs  is_wicket  run_rate  \\\n",
       "0  2007/08  Kolkata Knight Riders           3          0       3.0   \n",
       "1  2007/08  Kolkata Knight Riders          18          0      10.5   \n",
       "2  2007/08  Kolkata Knight Riders           6          0       9.0   \n",
       "3  2007/08  Kolkata Knight Riders          23          0      12.5   \n",
       "4  2007/08  Kolkata Knight Riders          10          0      12.0   \n",
       "\n",
       "   target_runs  target_left  req_runrate  curr_run_rate  weighted_run_rate  \n",
       "0            0            0          0.0              3               3.00  \n",
       "1            0            0          0.0             18              13.50  \n",
       "2            0            0          0.0              6               8.25  \n",
       "3            0            0          0.0             23              18.58  \n",
       "4            0            0          0.0             10              12.57  "
      ]
     },
     "execution_count": 12,
     "metadata": {},
     "output_type": "execute_result"
    }
   ],
   "source": [
    "# Load the datasets\n",
    "try:\n",
    "    # First, try to load the preprocessed dataset if it exists\n",
    "    df = pd.read_csv('cleaned_data/weighted_run_rate_dataset.csv')\n",
    "    print(\"Loaded preprocessed dataset.\")\n",
    "except FileNotFoundError:\n",
    "    print(\"Preprocessed dataset not found. Loading and preprocessing raw data...\")\n",
    "    # Load raw data\n",
    "    deliveries = pd.read_csv('data/ball_to_ball/deliveries.csv')\n",
    "    matches = pd.read_csv('data/match_id/matches.csv')\n",
    "    \n",
    "    # Merge datasets\n",
    "    df = pd.merge(deliveries, matches, left_on='match_id', right_on='id')\n",
    "    \n",
    "    # Perform basic preprocessing\n",
    "    # Group by match_id, inning, over to get per-over statistics\n",
    "    over_stats = df.groupby(['match_id', 'inning', 'over']).agg(\n",
    "        total_runs=('total_runs', 'sum'),\n",
    "        is_wicket=('is_wicket', 'sum'),\n",
    "        batting_team=('batting_team', 'first'),\n",
    "        bowling_team=('bowling_team', 'first'),\n",
    "        season=('season', 'first')\n",
    "    ).reset_index()\n",
    "    \n",
    "    # Calculate cumulative stats\n",
    "    result = []\n",
    "    for (match_id, inning), group in over_stats.groupby(['match_id', 'inning']):\n",
    "        group = group.sort_values('over')\n",
    "        cum_runs = 0\n",
    "        cum_wickets = 0\n",
    "        \n",
    "        for idx, row in group.iterrows():\n",
    "            cum_runs += row['total_runs']\n",
    "            cum_wickets += row['is_wicket']\n",
    "            \n",
    "            # Calculate run rate\n",
    "            run_rate = cum_runs / row['over'] if row['over'] > 0 else 0\n",
    "            \n",
    "            # Calculate target and required run rate for 2nd innings\n",
    "            target = 0\n",
    "            req_runrate = 0\n",
    "            target_left = 0\n",
    "            \n",
    "            if inning == 2:\n",
    "                # Find target from 1st innings\n",
    "                first_inning = over_stats[(over_stats['match_id'] == match_id) & \n",
    "                                          (over_stats['inning'] == 1)]\n",
    "                if not first_inning.empty:\n",
    "                    target = first_inning['total_runs'].sum() + 1\n",
    "                    target_left = target - cum_runs\n",
    "                    remaining_overs = 20 - row['over']\n",
    "                    req_runrate = target_left / remaining_overs if remaining_overs > 0 else 0\n",
    "            \n",
    "            # Create a record for the current over\n",
    "            curr_run_rate = row['total_runs']  # Runs in current over\n",
    "            \n",
    "            result.append({\n",
    "                'match_id': match_id,\n",
    "                'inning': inning,\n",
    "                'over': row['over'],\n",
    "                'batting_team': row['batting_team'],\n",
    "                'bowling_team': row['bowling_team'],\n",
    "                'season': row['season'],\n",
    "                'total_runs_in_over': row['total_runs'],\n",
    "                'is_wicket': row['is_wicket'],\n",
    "                'cum_runs': cum_runs,\n",
    "                'cum_wickets': cum_wickets,\n",
    "                'run_rate': run_rate,\n",
    "                'curr_run_rate': curr_run_rate,\n",
    "                'target': target,\n",
    "                'target_left': target_left,\n",
    "                'req_runrate': req_runrate\n",
    "            })\n",
    "    \n",
    "    # Convert to DataFrame\n",
    "    df = pd.DataFrame(result)\n",
    "    \n",
    "    # Calculate weighted run rate\n",
    "    alpha = 0.7  # Weight for current run rate vs. historical\n",
    "    \n",
    "    # Initialize weighted run rate column\n",
    "    df['weighted_run_rate'] = 0.0\n",
    "    \n",
    "    # Process each match and inning separately\n",
    "    for (match_id, inning), group in df.groupby(['match_id', 'inning']):\n",
    "        # Sort by over to ensure correct sequence\n",
    "        group = group.sort_values('over')\n",
    "        \n",
    "        # Initialize weighted run rate with the first over's run rate\n",
    "        weighted_rr = group['curr_run_rate'].iloc[0]\n",
    "        \n",
    "        # Process each row and update the weighted run rate\n",
    "        for idx, row in group.iterrows():\n",
    "            if row['over'] == 1:  # First over - just use its run rate\n",
    "                df.loc[idx, 'weighted_run_rate'] = row['curr_run_rate']\n",
    "            else:\n",
    "                # Apply the formula: α(RR_current) + (1-α)(RR_previous_weighted)\n",
    "                weighted_rr = alpha * row['curr_run_rate'] + (1-alpha) * weighted_rr\n",
    "                df.loc[idx, 'weighted_run_rate'] = weighted_rr\n",
    "    \n",
    "    # Save the preprocessed dataset\n",
    "    df.to_csv('cleaned_data/weighted_run_rate_dataset.csv', index=False)\n",
    "    print(\"Preprocessing completed. Dataset saved to 'cleaned_data/weighted_run_rate_dataset.csv'\")\n",
    "\n",
    "# Display dataframe info\n",
    "print(\"\\nDataset shape:\", df.shape)\n",
    "print(\"\\nColumns:\", df.columns.tolist())\n",
    "print(\"\\nSample data:\")\n",
    "df.head()"
   ]
  },
  {
   "cell_type": "markdown",
   "id": "0741e7f5",
   "metadata": {},
   "source": [
    "## Feature Engineering"
   ]
  },
  {
   "cell_type": "code",
   "execution_count": 13,
   "id": "0b96080b",
   "metadata": {},
   "outputs": [
    {
     "name": "stdout",
     "output_type": "stream",
     "text": [
      "Team mapping:\n",
      "0: Chennai Super Kings\n",
      "1: Delhi Capitals\n",
      "2: Gujarat Lions\n",
      "3: Gujarat Titans\n",
      "4: Kochi Tuskers Kerala\n",
      "5: Kolkata Knight Riders\n",
      "6: Lucknow Super Giants\n",
      "7: Mumbai Indians\n",
      "8: Pune Warriors\n",
      "9: Punjab Kings\n",
      "10: Rajasthan Royals\n",
      "11: Rising Pune Supergiant\n",
      "12: Royal Challengers Bengaluru\n",
      "13: Sunrisers Hyderabad\n",
      "\n",
      "Features for model:\n",
      "['over', 'batting_team_encoded', 'bowling_team_encoded', 'cum_wickets', 'run_rate', 'curr_run_rate', 'weighted_run_rate', 'is_second_inning', 'target_left', 'req_runrate']\n"
     ]
    }
   ],
   "source": [
    "# Encode categorical features\n",
    "df['season'] = df['season'].astype(str)\n",
    "df['season_year'] = df['season'].apply(lambda x: int(x.split('/')[0]) if '/' in x else int(x))\n",
    "max_year = 2024  # Assuming current year as the reference point\n",
    "\n",
    "# Encode teams using LabelEncoder\n",
    "team_encoder = LabelEncoder()\n",
    "df['batting_team_encoded'] = team_encoder.fit_transform(df['batting_team'])\n",
    "df['bowling_team_encoded'] = team_encoder.fit_transform(df['bowling_team'])\n",
    "\n",
    "print(\"Team mapping:\")\n",
    "for i, team in enumerate(team_encoder.classes_):\n",
    "    print(f\"{i}: {team}\")\n",
    "\n",
    "# Calculate cumulative wickets for each match and inning\n",
    "df['cum_wickets'] = df.groupby(['match_id', 'inning'])['is_wicket'].cumsum()\n",
    "\n",
    "# Create feature for next over runs (target variable)\n",
    "df['next_over_runs'] = df.groupby(['match_id', 'inning'])['total_runs'].shift(-1)\n",
    "\n",
    "# Drop rows where next_over_runs is NaN (last over of each innings)\n",
    "df = df.dropna(subset=['next_over_runs']).reset_index(drop=True)\n",
    "\n",
    "# Define features for linear regression\n",
    "features = [\n",
    "    'over',\n",
    "    'batting_team_encoded', \n",
    "    'bowling_team_encoded',\n",
    "    'cum_wickets',\n",
    "    'run_rate',\n",
    "    'curr_run_rate',\n",
    "    'weighted_run_rate'\n",
    "]\n",
    "\n",
    "# Add features specific to second innings\n",
    "df['is_second_inning'] = (df['inning'] == 2).astype(int)\n",
    "features.append('is_second_inning')\n",
    "\n",
    "# For second innings, add target-related features\n",
    "second_inning_mask = df['inning'] == 2\n",
    "df.loc[~second_inning_mask, ['target_left', 'req_runrate']] = 0\n",
    "features.extend(['target_left', 'req_runrate'])\n",
    "\n",
    "# Scale numerical features\n",
    "scaler = StandardScaler()\n",
    "df_scaled = df.copy()\n",
    "df_scaled[features] = scaler.fit_transform(df[features])\n",
    "\n",
    "print(\"\\nFeatures for model:\")\n",
    "print(features)"
   ]
  },
  {
   "cell_type": "markdown",
   "id": "360b1748",
   "metadata": {},
   "source": [
    "## Train-Test Split"
   ]
  },
  {
   "cell_type": "code",
   "execution_count": 14,
   "id": "63582202",
   "metadata": {},
   "outputs": [
    {
     "name": "stdout",
     "output_type": "stream",
     "text": [
      "Training set: 32023 rows\n",
      "Testing set: 7973 rows\n"
     ]
    }
   ],
   "source": [
    "# Split by match_id to prevent data leakage\n",
    "match_ids = df['match_id'].unique()\n",
    "train_match_ids, test_match_ids = train_test_split(match_ids, test_size=0.2, random_state=42)\n",
    "\n",
    "# Create train and test sets\n",
    "train_df = df[df['match_id'].isin(train_match_ids)].reset_index(drop=True)\n",
    "test_df = df[df['match_id'].isin(test_match_ids)].reset_index(drop=True)\n",
    "\n",
    "# Create scaled versions\n",
    "train_df_scaled = df_scaled[df_scaled['match_id'].isin(train_match_ids)].reset_index(drop=True)\n",
    "test_df_scaled = df_scaled[df_scaled['match_id'].isin(test_match_ids)].reset_index(drop=True)\n",
    "\n",
    "print(f\"Training set: {train_df.shape[0]} rows\")\n",
    "print(f\"Testing set: {test_df.shape[0]} rows\")"
   ]
  },
  {
   "cell_type": "markdown",
   "id": "213591e1",
   "metadata": {},
   "source": [
    "## Linear Regression Model"
   ]
  },
  {
   "cell_type": "code",
   "execution_count": 15,
   "id": "ea5b40fd",
   "metadata": {},
   "outputs": [
    {
     "name": "stdout",
     "output_type": "stream",
     "text": [
      "Linear Regression Model Performance:\n",
      "Train MAE: 3.5620, Test MAE: 3.5391\n",
      "Train RMSE: 4.5021, Test RMSE: 4.4529\n",
      "Train R²: 0.0690, Test R²: 0.0713\n"
     ]
    }
   ],
   "source": [
    "# Extract features and target for both original and scaled datasets\n",
    "X_train = train_df_scaled[features]\n",
    "y_train = train_df['next_over_runs']\n",
    "\n",
    "X_test = test_df_scaled[features]\n",
    "y_test = test_df['next_over_runs']\n",
    "\n",
    "# Train linear regression model\n",
    "lr_model = LinearRegression()\n",
    "lr_model.fit(X_train, y_train)\n",
    "\n",
    "# Make predictions\n",
    "y_train_pred = lr_model.predict(X_train)\n",
    "y_test_pred = lr_model.predict(X_test)\n",
    "\n",
    "# Calculate metrics\n",
    "train_mae = mean_absolute_error(y_train, y_train_pred)\n",
    "test_mae = mean_absolute_error(y_test, y_test_pred)\n",
    "\n",
    "train_rmse = np.sqrt(mean_squared_error(y_train, y_train_pred))\n",
    "test_rmse = np.sqrt(mean_squared_error(y_test, y_test_pred))\n",
    "\n",
    "train_r2 = r2_score(y_train, y_train_pred)\n",
    "test_r2 = r2_score(y_test, y_test_pred)\n",
    "\n",
    "print(\"Linear Regression Model Performance:\")\n",
    "print(f\"Train MAE: {train_mae:.4f}, Test MAE: {test_mae:.4f}\")\n",
    "print(f\"Train RMSE: {train_rmse:.4f}, Test RMSE: {test_rmse:.4f}\")\n",
    "print(f\"Train R²: {train_r2:.4f}, Test R²: {test_r2:.4f}\")"
   ]
  },
  {
   "cell_type": "markdown",
   "id": "8e980161",
   "metadata": {},
   "source": [
    "## Feature Importance"
   ]
  },
  {
   "cell_type": "code",
   "execution_count": 16,
   "id": "63cfb84e",
   "metadata": {},
   "outputs": [
    {
     "name": "stdout",
     "output_type": "stream",
     "text": [
      "Feature Importance:\n",
      "                Feature  Coefficient  Abs_Coefficient\n",
      "0                  over     1.510409         1.510409\n",
      "1      is_second_inning    -1.204469         1.204469\n",
      "2           cum_wickets    -1.027707         1.027707\n",
      "3     weighted_run_rate     0.996673         0.996673\n",
      "4           target_left     0.838671         0.838671\n",
      "5         curr_run_rate    -0.551005         0.551005\n",
      "6           req_runrate     0.543768         0.543768\n",
      "7  batting_team_encoded    -0.062951         0.062951\n",
      "8              run_rate     0.054707         0.054707\n",
      "9  bowling_team_encoded    -0.005927         0.005927\n"
     ]
    },
    {
     "data": {
      "image/png": "[encoded data removed]",
      "text/plain": [
       "<Figure size 1200x800 with 1 Axes>"
      ]
     },
     "metadata": {},
     "output_type": "display_data"
    }
   ],
   "source": [
    "# Analyze feature importance\n",
    "coefficients = pd.DataFrame({\n",
    "    'Feature': features,\n",
    "    'Coefficient': lr_model.coef_\n",
    "})\n",
    "\n",
    "# Sort by absolute coefficient value\n",
    "coefficients['Abs_Coefficient'] = coefficients['Coefficient'].abs()\n",
    "coefficients = coefficients.sort_values('Abs_Coefficient', ascending=False).reset_index(drop=True)\n",
    "\n",
    "print(\"Feature Importance:\")\n",
    "print(coefficients)\n",
    "\n",
    "# Plot feature importance\n",
    "plt.figure(figsize=(12, 8))\n",
    "plt.barh(coefficients['Feature'][:10], coefficients['Coefficient'][:10])\n",
    "plt.xlabel('Coefficient Value')\n",
    "plt.ylabel('Feature')\n",
    "plt.title('Top 10 Features by Importance')\n",
    "plt.grid(True, alpha=0.3)\n",
    "plt.tight_layout()\n",
    "plt.show()"
   ]
  },
  {
   "cell_type": "markdown",
   "id": "1b33496d",
   "metadata": {},
   "source": [
    "## Prediction Analysis"
   ]
  },
  {
   "cell_type": "code",
   "execution_count": 17,
   "id": "a72825f0",
   "metadata": {},
   "outputs": [
    {
     "data": {
      "image/png": "[encoded data removed]",
      "text/plain": [
       "<Figure size 1000x600 with 1 Axes>"
      ]
     },
     "metadata": {},
     "output_type": "display_data"
    },
    {
     "data": {
      "image/png": "[encoded data removed]",
      "text/plain": [
       "<Figure size 1000x600 with 1 Axes>"
      ]
     },
     "metadata": {},
     "output_type": "display_data"
    }
   ],
   "source": [
    "# Create a DataFrame with actual and predicted values\n",
    "results_df = test_df.copy()\n",
    "results_df['predicted_runs'] = y_test_pred\n",
    "results_df['error'] = results_df['predicted_runs'] - results_df['next_over_runs']\n",
    "\n",
    "# Plot actual vs predicted runs\n",
    "plt.figure(figsize=(10, 6))\n",
    "plt.scatter(results_df['next_over_runs'], results_df['predicted_runs'], alpha=0.5)\n",
    "plt.plot([0, 30], [0, 30], '--', color='red')  # Diagonal line for perfect predictions\n",
    "plt.xlabel('Actual Runs')\n",
    "plt.ylabel('Predicted Runs')\n",
    "plt.title('Actual vs. Predicted Runs Next Over')\n",
    "plt.grid(True, alpha=0.3)\n",
    "plt.show()\n",
    "\n",
    "# Plot error distribution\n",
    "plt.figure(figsize=(10, 6))\n",
    "plt.hist(results_df['error'], bins=30, alpha=0.7)\n",
    "plt.axvline(x=0, color='red', linestyle='--')\n",
    "plt.xlabel('Prediction Error (Predicted - Actual)')\n",
    "plt.ylabel('Frequency')\n",
    "plt.title('Distribution of Prediction Errors')\n",
    "plt.grid(True, alpha=0.3)\n",
    "plt.show()"
   ]
  },
  {
   "cell_type": "markdown",
   "id": "a07d6199",
   "metadata": {},
   "source": [
    "## Innings Analysis"
   ]
  },
  {
   "cell_type": "code",
   "execution_count": 18,
   "id": "3af7d82c",
   "metadata": {},
   "outputs": [
    {
     "name": "stdout",
     "output_type": "stream",
     "text": [
      "Performance by Innings:\n",
      "First Innings - MAE: 3.5017, RMSE: 4.4071, R²: 0.0906\n",
      "Second Innings - MAE: 3.5790, RMSE: 4.5013, R²: 0.0506\n"
     ]
    }
   ],
   "source": [
    "# Separate performance by innings\n",
    "first_innings = results_df[results_df['inning'] == 1]\n",
    "second_innings = results_df[results_df['inning'] == 2]\n",
    "\n",
    "# Calculate metrics for each innings\n",
    "first_mae = mean_absolute_error(first_innings['next_over_runs'], first_innings['predicted_runs'])\n",
    "second_mae = mean_absolute_error(second_innings['next_over_runs'], second_innings['predicted_runs'])\n",
    "\n",
    "first_rmse = np.sqrt(mean_squared_error(first_innings['next_over_runs'], first_innings['predicted_runs']))\n",
    "second_rmse = np.sqrt(mean_squared_error(second_innings['next_over_runs'], second_innings['predicted_runs']))\n",
    "\n",
    "first_r2 = r2_score(first_innings['next_over_runs'], first_innings['predicted_runs'])\n",
    "second_r2 = r2_score(second_innings['next_over_runs'], second_innings['predicted_runs'])\n",
    "\n",
    "print(\"Performance by Innings:\")\n",
    "print(f\"First Innings - MAE: {first_mae:.4f}, RMSE: {first_rmse:.4f}, R²: {first_r2:.4f}\")\n",
    "print(f\"Second Innings - MAE: {second_mae:.4f}, RMSE: {second_rmse:.4f}, R²: {second_r2:.4f}\")"
   ]
  },
  {
   "cell_type": "markdown",
   "id": "0a03e422",
   "metadata": {},
   "source": [
    "## Over-by-Over Prediction Accuracy"
   ]
  },
  {
   "cell_type": "code",
   "execution_count": 19,
   "id": "fdc3bd18",
   "metadata": {},
   "outputs": [
    {
     "name": "stderr",
     "output_type": "stream",
     "text": [
      "/tmp/ipykernel_81794/742666868.py:2: DeprecationWarning: DataFrameGroupBy.apply operated on the grouping columns. This behavior is deprecated, and in a future version of pandas the grouping columns will be excluded from the operation. Either pass `include_groups=False` to exclude the groupings or explicitly select the grouping columns after groupby to silence this warning.\n",
      "  over_accuracy = results_df.groupby('over').apply(\n"
     ]
    },
    {
     "data": {
      "image/png": "[encoded data removed]",
      "text/plain": [
       "<Figure size 1200x600 with 1 Axes>"
      ]
     },
     "metadata": {},
     "output_type": "display_data"
    }
   ],
   "source": [
    "# Analyze prediction accuracy by over\n",
    "over_accuracy = results_df.groupby('over').apply(\n",
    "    lambda x: pd.Series({\n",
    "        'mae': mean_absolute_error(x['next_over_runs'], x['predicted_runs']),\n",
    "        'rmse': np.sqrt(mean_squared_error(x['next_over_runs'], x['predicted_runs'])),\n",
    "        'count': len(x)\n",
    "    })\n",
    ").reset_index()\n",
    "\n",
    "# Plot MAE by over\n",
    "plt.figure(figsize=(12, 6))\n",
    "plt.bar(over_accuracy['over'], over_accuracy['mae'], alpha=0.7)\n",
    "plt.xlabel('Over')\n",
    "plt.ylabel('Mean Absolute Error')\n",
    "plt.title('Prediction Error by Over')\n",
    "plt.grid(True, alpha=0.3)\n",
    "plt.xticks(range(1, 20))\n",
    "plt.tight_layout()\n",
    "plt.show()"
   ]
  },
  {
   "cell_type": "markdown",
   "id": "57815a33",
   "metadata": {},
   "source": [
    "## Prediction Function for New Matches"
   ]
  },
  {
   "cell_type": "code",
   "execution_count": 20,
   "id": "a25f996e",
   "metadata": {},
   "outputs": [],
   "source": [
    "def predict_next_over_runs(model, scaler, encoder, batting_team, bowling_team, current_over, \n",
    "                           total_runs, total_wickets, target=0):\n",
    "    \"\"\"Predict runs for the next over based on current match state.\"\"\"\n",
    "    try:\n",
    "        # Encode teams\n",
    "        batting_team_encoded = encoder.transform([batting_team])[0]\n",
    "        bowling_team_encoded = encoder.transform([bowling_team])[0]\n",
    "        \n",
    "        # Calculate derived features\n",
    "        run_rate = total_runs / current_over if current_over > 0 else 0\n",
    "        current_run_rate = total_runs / current_over if current_over > 0 else 0  # Simplified for demo\n",
    "        weighted_run_rate = current_run_rate  # Simplified for demo\n",
    "        \n",
    "        # Determine innings and target-related features\n",
    "        is_second_inning = 1 if target > 0 else 0\n",
    "        target_left = max(0, target - total_runs) if target > 0 else 0\n",
    "        remaining_overs = 20 - current_over\n",
    "        req_runrate = target_left / remaining_overs if remaining_overs > 0 and target > 0 else 0\n",
    "        \n",
    "        # Create features array\n",
    "        features_array = np.array([\n",
    "            current_over + 1,  # next over\n",
    "            batting_team_encoded,\n",
    "            bowling_team_encoded,\n",
    "            total_wickets,  # cum_wickets\n",
    "            run_rate,\n",
    "            current_run_rate,\n",
    "            weighted_run_rate,\n",
    "            is_second_inning,\n",
    "            target_left,\n",
    "            req_runrate\n",
    "        ]).reshape(1, -1)\n",
    "        \n",
    "        # Scale features\n",
    "        features_scaled = scaler.transform(features_array)\n",
    "        \n",
    "        # Make prediction\n",
    "        prediction = model.predict(features_scaled)[0]\n",
    "        return max(0, prediction)  # Ensure prediction is non-negative\n",
    "    \n",
    "    except Exception as e:\n",
    "        print(f\"Error in prediction: {e}\")\n",
    "        return None"
   ]
  },
  {
   "cell_type": "code",
   "execution_count": 21,
   "id": "96644da0",
   "metadata": {},
   "outputs": [
    {
     "name": "stdout",
     "output_type": "stream",
     "text": [
      "\n",
      "Example Prediction:\n",
      "Available teams:\n",
      "0: Chennai Super Kings\n",
      "1: Delhi Capitals\n",
      "2: Gujarat Lions\n",
      "3: Gujarat Titans\n",
      "4: Kochi Tuskers Kerala\n",
      "5: Kolkata Knight Riders\n",
      "6: Lucknow Super Giants\n",
      "7: Mumbai Indians\n",
      "8: Pune Warriors\n",
      "9: Punjab Kings\n",
      "10: Rajasthan Royals\n",
      "11: Rising Pune Supergiant\n",
      "12: Royal Challengers Bengaluru\n",
      "13: Sunrisers Hyderabad\n",
      "\n",
      "First Innings Prediction:\n",
      "Match situation: Chennai Super Kings vs Delhi Capitals, 10 overs completed\n",
      "Current score: 80/2\n",
      "Predicted runs in the next over: 9.10\n",
      "\n",
      "Second Innings Prediction:\n",
      "Match situation: Chennai Super Kings vs Delhi Capitals, 15 overs completed\n",
      "Current score: 120/5, Target: 160\n",
      "Required: 40 runs from 5 overs\n",
      "Predicted runs in the next over: 8.01\n"
     ]
    },
    {
     "name": "stderr",
     "output_type": "stream",
     "text": [
      "/home/yash-chordia/MLRuntime/.venv/lib/python3.12/site-packages/sklearn/utils/validation.py:2739: UserWarning: X does not have valid feature names, but StandardScaler was fitted with feature names\n",
      "  warnings.warn(\n",
      "/home/yash-chordia/MLRuntime/.venv/lib/python3.12/site-packages/sklearn/utils/validation.py:2739: UserWarning: X does not have valid feature names, but LinearRegression was fitted with feature names\n",
      "  warnings.warn(\n",
      "/home/yash-chordia/MLRuntime/.venv/lib/python3.12/site-packages/sklearn/utils/validation.py:2739: UserWarning: X does not have valid feature names, but StandardScaler was fitted with feature names\n",
      "  warnings.warn(\n",
      "/home/yash-chordia/MLRuntime/.venv/lib/python3.12/site-packages/sklearn/utils/validation.py:2739: UserWarning: X does not have valid feature names, but LinearRegression was fitted with feature names\n",
      "  warnings.warn(\n"
     ]
    }
   ],
   "source": [
    "# Example usage\n",
    "print(\"\\nExample Prediction:\")\n",
    "try:\n",
    "    # Get list of teams for user selection\n",
    "    teams = team_encoder.classes_\n",
    "    print(\"Available teams:\")\n",
    "    for i, team in enumerate(teams):\n",
    "        print(f\"{i}: {team}\")\n",
    "    \n",
    "    # Example prediction\n",
    "    sample_batting_team = teams[0]  # Pick first team as an example\n",
    "    sample_bowling_team = teams[1]  # Pick second team as an example\n",
    "    \n",
    "    # First innings prediction example\n",
    "    first_innings_runs = predict_next_over_runs(\n",
    "        model=lr_model,\n",
    "        scaler=scaler,\n",
    "        encoder=team_encoder,\n",
    "        batting_team=sample_batting_team,\n",
    "        bowling_team=sample_bowling_team,\n",
    "        current_over=10,  # After 10 overs\n",
    "        total_runs=80,\n",
    "        total_wickets=2\n",
    "    )\n",
    "    \n",
    "    print(f\"\\nFirst Innings Prediction:\")\n",
    "    print(f\"Match situation: {sample_batting_team} vs {sample_bowling_team}, 10 overs completed\")\n",
    "    print(f\"Current score: 80/2\")\n",
    "    print(f\"Predicted runs in the next over: {first_innings_runs:.2f}\")\n",
    "    \n",
    "    # Second innings prediction example\n",
    "    second_innings_runs = predict_next_over_runs(\n",
    "        model=lr_model,\n",
    "        scaler=scaler,\n",
    "        encoder=team_encoder,\n",
    "        batting_team=sample_batting_team,\n",
    "        bowling_team=sample_bowling_team,\n",
    "        current_over=15,  # After 15 overs\n",
    "        total_runs=120,\n",
    "        total_wickets=5,\n",
    "        target=160  # Chasing 160\n",
    "    )\n",
    "    \n",
    "    print(f\"\\nSecond Innings Prediction:\")\n",
    "    print(f\"Match situation: {sample_batting_team} vs {sample_bowling_team}, 15 overs completed\")\n",
    "    print(f\"Current score: 120/5, Target: 160\")\n",
    "    print(f\"Required: {160-120} runs from {20-15} overs\")\n",
    "    print(f\"Predicted runs in the next over: {second_innings_runs:.2f}\")\n",
    "    \n",
    "except Exception as e:\n",
    "    print(f\"Error in example prediction: {e}\")"
   ]
  },
  {
   "cell_type": "markdown",
   "id": "1f24266e",
   "metadata": {},
   "source": [
    "## Save Model for Future Use"
   ]
  },
  {
   "cell_type": "code",
   "execution_count": 22,
   "id": "b87f3e81",
   "metadata": {},
   "outputs": [
    {
     "name": "stdout",
     "output_type": "stream",
     "text": [
      "Model saved to 'lr_model.pkl'\n"
     ]
    }
   ],
   "source": [
    "import pickle\n",
    "\n",
    "# Save the model, scaler and encoder\n",
    "model_data = {\n",
    "    'model': lr_model,\n",
    "    'scaler': scaler,\n",
    "    'team_encoder': team_encoder,\n",
    "    'features': features\n",
    "}\n",
    "\n",
    "with open('lr_model.pkl', 'wb') as f:\n",
    "    pickle.dump(model_data, f)\n",
    "\n",
    "print(\"Model saved to 'lr_model.pkl'\")"
   ]
  },
  {
   "cell_type": "markdown",
   "id": "087b37c7",
   "metadata": {},
   "source": [
    "## Conclusion and Comparison\n",
    "\n",
    "The linear regression model provides a baseline for run prediction in IPL matches. Key observations:\n",
    "\n",
    "1. Run rate, wickets, and target parameters are significant predictors\n",
    "2. Performance differs between first and second innings\n",
    "3. Prediction accuracy varies by stage of the match (over number)\n",
    "\n",
    "For more complex patterns and potentially better accuracy, consider comparing this linear model with the neural network approach in the nn.ipynb notebook."
   ]
  }
 ],
 "metadata": {
  "kernelspec": {
   "display_name": ".venv",
   "language": "python",
   "name": "python3"
  },
  "language_info": {
   "codemirror_mode": {
    "name": "ipython",
    "version": 3
   },
   "file_extension": ".py",
   "mimetype": "text/x-python",
   "name": "python",
   "nbconvert_exporter": "python",
   "pygments_lexer": "ipython3",
   "version": "3.12.3"
  }
 },
 "nbformat": 4,
 "nbformat_minor": 5
}
